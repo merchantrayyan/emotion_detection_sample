{
  "nbformat": 4,
  "nbformat_minor": 0,
  "metadata": {
    "colab": {
      "provenance": [],
      "authorship_tag": "ABX9TyM9fO3WUAKHpf6QF6ndj5Nz",
      "include_colab_link": true
    },
    "kernelspec": {
      "name": "python3",
      "display_name": "Python 3"
    },
    "language_info": {
      "name": "python"
    }
  },
  "cells": [
    {
      "cell_type": "markdown",
      "metadata": {
        "id": "view-in-github",
        "colab_type": "text"
      },
      "source": [
        "<a href=\"https://colab.research.google.com/github/merchantrayyan/emotion_detection_sample/blob/main/sample_model.ipynb\" target=\"_parent\"><img src=\"https://colab.research.google.com/assets/colab-badge.svg\" alt=\"Open In Colab\"/></a>"
      ]
    },
    {
      "cell_type": "markdown",
      "source": [
        "Sample model demonstrating the model works\n",
        "\n",
        "Unfortunately installing all this stuff every time takes a few minutes but it's required\n",
        "\n",
        "Weights are loaded from the files you upload\n",
        "\n",
        "Three emotions are predicted with top 3 emotions and certainty for each inputted line\n",
        "\n",
        "Task is hard, Google's F1 score is 46% even with all this data so I'm not sure how much we can improve upon this with hyperparameter tuning but maybe merging several emotions will help\n",
        "\n",
        "We don't need all of the emotions anyways"
      ],
      "metadata": {
        "id": "Uv6h2djmLkY_"
      }
    },
    {
      "cell_type": "code",
      "execution_count": null,
      "metadata": {
        "id": "Y4vteBROF9zp"
      },
      "outputs": [],
      "source": [
        "!pip install tensorflow==2.11.0"
      ]
    },
    {
      "cell_type": "code",
      "source": [
        "!sudo apt install curl gnupg\n",
        "!curl https://bazel.build/bazel-release.pub.gpg | sudo apt-key add -\n",
        "!echo \"deb [arch=amd64] https://storage.googleapis.com/bazel-apt stable jdk1.8\" | sudo tee /etc/apt/sources.list.d/bazel.list\n",
        "!sudo apt update\n",
        "!sudo apt install bazel=5.4.0"
      ],
      "metadata": {
        "id": "qdqejRpzGA07"
      },
      "execution_count": null,
      "outputs": []
    },
    {
      "cell_type": "code",
      "source": [
        "!git clone https://www.github.com/tensorflow/models\n",
        "!models/research/seq_flow_lite/demo/colab/setup_workspace.sh\n",
        "!pip install models/research/seq_flow_lite\n",
        "!rm -rf models/research/seq_flow_lite/tf_ops\n",
        "!rm -rf models/research/seq_flow_lite/tflite_ops"
      ],
      "metadata": {
        "id": "7HuOkxhVGDs1"
      },
      "execution_count": null,
      "outputs": []
    },
    {
      "cell_type": "code",
      "source": [
        "%cd models/research/seq_flow_lite"
      ],
      "metadata": {
        "id": "LS-wi0p6GHJ5"
      },
      "execution_count": null,
      "outputs": []
    },
    {
      "cell_type": "code",
      "source": [
        "import tensorflow as tf"
      ],
      "metadata": {
        "id": "RE1ikCTbGKix"
      },
      "execution_count": null,
      "outputs": []
    },
    {
      "cell_type": "code",
      "source": [
        "from models import prado\n",
        "from layers import base_layers\n",
        "from layers import projection_layers\n",
        "\n",
        "def build_model(mode):\n",
        "  # First we define our inputs.\n",
        "  inputs = []\n",
        "  if mode == base_layers.TRAIN or mode == base_layers.EVAL:\n",
        "    # For TRAIN and EVAL, we'll be getting dataset examples,\n",
        "    # so we'll get projections and sequence_lengths.\n",
        "    projection = tf.keras.Input(\n",
        "        shape=(MODEL_CONFIG['max_seq_len'], MODEL_CONFIG['feature_size']),\n",
        "        name='projection',\n",
        "        dtype='float32')\n",
        "\n",
        "    sequence_length = tf.keras.Input(\n",
        "        shape=(), name='sequence_length', dtype='float32')\n",
        "    inputs = [projection, sequence_length]\n",
        "  else:\n",
        "    # Otherwise, we get string inputs which we need to project.\n",
        "    input = tf.keras.Input(shape=(), name='input', dtype='string')\n",
        "    projection_layer = projection_layers.ProjectionLayer(MODEL_CONFIG, mode)\n",
        "    projection, sequence_length = projection_layer(input)\n",
        "    inputs = [input]\n",
        "\n",
        "  # Next we add the model layer.\n",
        "  model_layer = prado.Encoder(MODEL_CONFIG, mode)\n",
        "  logits = model_layer(projection, sequence_length)\n",
        "\n",
        "  # Finally we add an activation layer.\n",
        "  if MODEL_CONFIG['multilabel']:\n",
        "    activation = tf.keras.layers.Activation('sigmoid', name='predictions')\n",
        "  else:\n",
        "    activation = tf.keras.layers.Activation('softmax', name='predictions')\n",
        "  predictions = activation(logits)\n",
        "\n",
        "  model = tf.keras.Model(\n",
        "      inputs=inputs,\n",
        "      outputs=[predictions])\n",
        "\n",
        "  return model"
      ],
      "metadata": {
        "id": "U1i3Ann7GR5q"
      },
      "execution_count": null,
      "outputs": []
    },
    {
      "cell_type": "code",
      "source": [
        "LABELS = [\n",
        "    'admiration',\n",
        "    'amusement',\n",
        "    'anger',\n",
        "    'annoyance'\n",
        "    'approval',\n",
        "    'caring',\n",
        "    'confusion',\n",
        "    'curiosity',\n",
        "    'desire',\n",
        "    'disappointment',\n",
        "    'disapproval',\n",
        "    'disgust',\n",
        "    'embarrassment',\n",
        "    'excitement',\n",
        "    'fear',\n",
        "    'gratitude',\n",
        "    'grief',\n",
        "    'joy',\n",
        "    'love',\n",
        "    'nervousness',\n",
        "    'optimism',\n",
        "    'pride',\n",
        "    'realization',\n",
        "    'relief',\n",
        "    'remorse',\n",
        "    'sadness',\n",
        "    'surprise',\n",
        "    'neutral',\n",
        "]\n",
        "\n",
        "#merges?:\n",
        "# anger: annoyance, disgust, disapproval\n",
        "# joy: relief, gratitude, optimism\n",
        "# love: caring\n",
        "# sadness: disappointment, grief, remorse\n",
        "# confusion: surprise\n",
        "# quite a few emotions can be\n",
        "\n",
        "\n",
        "# Model training parameters.\n",
        "CONFIG = {\n",
        "    'name': 'models.prado',\n",
        "    'batch_size': 1024,\n",
        "    'train_steps': 10000,\n",
        "    'learning_rate': 0.0006,\n",
        "    'learning_rate_decay_steps': 340,\n",
        "    'learning_rate_decay_rate': 0.7,\n",
        "}\n",
        "\n",
        "# Limits the amount of logging output produced by the training run, in order to\n",
        "# avoid browser slowdowns.\n",
        "CONFIG['save_checkpoints_steps'] = int(CONFIG['train_steps'] / 10)\n",
        "\n",
        "MODEL_CONFIG = {\n",
        "    'labels': LABELS,\n",
        "    'multilabel': True,\n",
        "    'quantize': False,\n",
        "    'max_seq_len': 128,\n",
        "    'max_seq_len_inference': 128,\n",
        "    'exclude_nonalphaspace_unicodes': False,\n",
        "    'split_on_space': True,\n",
        "    'embedding_regularizer_scale': 0.035,\n",
        "    'embedding_size': 64,\n",
        "    'bigram_channels': 64,\n",
        "    'trigram_channels': 64,\n",
        "    'feature_size': 512,\n",
        "    'network_regularizer_scale': 0.0001,\n",
        "    'keep_prob': 0.5,\n",
        "    'word_novelty_bits': 0,\n",
        "    'doc_size_levels': 0,\n",
        "    'add_bos_tag': False,\n",
        "    'add_eos_tag': False,\n",
        "    'pre_logits_fc_layers': [],\n",
        "    'text_distortion_probability': 0.0,\n",
        "}\n",
        "\n",
        "CONFIG['model_config'] = MODEL_CONFIG"
      ],
      "metadata": {
        "id": "OgoLGq2CJIvK"
      },
      "execution_count": null,
      "outputs": []
    },
    {
      "cell_type": "code",
      "source": [
        "model = build_model(base_layers.PREDICT)\n",
        "model.load_weights('model_checkpoint')"
      ],
      "metadata": {
        "colab": {
          "base_uri": "https://localhost:8080/"
        },
        "id": "rnufA461GSQn",
        "outputId": "fb8a57ce-f112-4f23-dc7e-369a788c9c6a"
      },
      "execution_count": null,
      "outputs": [
        {
          "output_type": "execute_result",
          "data": {
            "text/plain": [
              "<tensorflow.python.checkpoint.checkpoint.CheckpointLoadStatus at 0x79ecb6e1f0d0>"
            ]
          },
          "metadata": {},
          "execution_count": 25
        }
      ]
    },
    {
      "cell_type": "code",
      "source": [
        "import numpy as np\n",
        "\n",
        "PREDICT_TEXT = [\n",
        "  b'depressed in my room',\n",
        "  b'Happy birthday!',\n",
        "  b'Go gators!',\n",
        "]\n",
        "\n",
        "for text in PREDICT_TEXT:\n",
        "  results = model.predict(x=[text])\n",
        "  print('')\n",
        "  print('{}:'.format(text))\n",
        "  labels = np.flip(np.argsort(results[0]))\n",
        "  for x in range(3):\n",
        "    label = LABELS[labels[x]]\n",
        "    #label = EMOJI_MAP[label] if EMOJI_MAP[label] else label\n",
        "    print('{}: {}'.format(label, results[0][labels[x]]))"
      ],
      "metadata": {
        "colab": {
          "base_uri": "https://localhost:8080/"
        },
        "id": "PeyAazUlJqp1",
        "outputId": "caa60fdd-85c6-4916-f5e2-67c048b69b92"
      },
      "execution_count": null,
      "outputs": [
        {
          "output_type": "stream",
          "name": "stdout",
          "text": [
            "1/1 [==============================] - 0s 46ms/step\n",
            "\n",
            "b'depressed in my room':\n",
            "neutral: 0.7431514859199524\n",
            "sadness: 0.4069349467754364\n",
            "disappointment: 0.366469144821167\n",
            "1/1 [==============================] - 0s 50ms/step\n",
            "\n",
            "b'Happy birthday!':\n",
            "joy: 0.9721881747245789\n",
            "excitement: 0.7735481858253479\n",
            "admiration: 0.4375458061695099\n",
            "1/1 [==============================] - 0s 41ms/step\n",
            "\n",
            "b'Go gators!':\n",
            "neutral: 0.865899384021759\n",
            "disapproval: 0.4562932848930359\n",
            "caring: 0.4002096652984619\n"
          ]
        }
      ]
    }
  ]
}